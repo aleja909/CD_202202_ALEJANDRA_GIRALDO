{
  "nbformat": 4,
  "nbformat_minor": 0,
  "metadata": {
    "colab": {
      "provenance": [],
      "authorship_tag": "ABX9TyOMfxQ5GPWzTVZYQXd0ARZ+",
      "include_colab_link": true
    },
    "kernelspec": {
      "name": "python3",
      "display_name": "Python 3"
    },
    "language_info": {
      "name": "python"
    }
  },
  "cells": [
    {
      "cell_type": "markdown",
      "metadata": {
        "id": "view-in-github",
        "colab_type": "text"
      },
      "source": [
        "<a href=\"https://colab.research.google.com/github/aleja909/CD_202202_ALEJANDRA_GIRALDO/blob/main/Taller_6_AG.ipynb\" target=\"_parent\"><img src=\"https://colab.research.google.com/assets/colab-badge.svg\" alt=\"Open In Colab\"/></a>"
      ]
    },
    {
      "cell_type": "code",
      "execution_count": null,
      "metadata": {
        "id": "_iyJfSx2kB5G"
      },
      "outputs": [],
      "source": [
        "import math \n",
        "\n",
        "def distancia(x,y):\n",
        "  return math.sqrt(x**2 + y**2)"
      ]
    },
    {
      "cell_type": "code",
      "source": [
        "cont = 0\n",
        "puntosLado = 10000\n",
        "paso = 1 / (puntosLado - 1)\n",
        "\n",
        "i = 0\n",
        "while i <=1:\n",
        "  j = 0\n",
        "  while j <=1:\n",
        "    if distancia(i,j) <= 1:\n",
        "      cont += 1\n",
        "    j+=paso\n",
        "  i+=paso\n",
        "  \n",
        "print(\"Puntos\", cont)\n",
        "print(\"Estimacion de pi:\",(cont * 4 / (puntosLado**2)))\n"
      ],
      "metadata": {
        "colab": {
          "base_uri": "https://localhost:8080/"
        },
        "id": "I4rCjEydkUJU",
        "outputId": "fb451126-b071-4bd0-d35d-7a1f2266c34c"
      },
      "execution_count": null,
      "outputs": [
        {
          "output_type": "stream",
          "name": "stdout",
          "text": [
            "Puntos 78534021\n",
            "Estimacion de pi: 3.14136084\n"
          ]
        }
      ]
    },
    {
      "cell_type": "code",
      "source": [
        "import random"
      ],
      "metadata": {
        "id": "06dIZ7ynw0KB"
      },
      "execution_count": 58,
      "outputs": []
    },
    {
      "cell_type": "code",
      "source": [
        "pAle=100000\n",
        "cAle=0\n",
        "for i in range(pAle):\n",
        "  x=random.random()\n",
        "  y=random.random()\n",
        "  if (distancia(x,y)<=1):\n",
        "\n",
        "    cAle+=1\n",
        "\n",
        "print(\"estimación de pi:\",(cAle*4/pAle**2))"
      ],
      "metadata": {
        "id": "TsBkuAHtoktz",
        "colab": {
          "base_uri": "https://localhost:8080/"
        },
        "outputId": "19c64106-e4dc-41ac-fa85-431eab8da4e4"
      },
      "execution_count": 59,
      "outputs": [
        {
          "output_type": "stream",
          "name": "stdout",
          "text": [
            "estimación de pi: 3.14044e-05\n"
          ]
        }
      ]
    }
  ]
}