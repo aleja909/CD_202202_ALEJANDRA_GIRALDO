{
  "nbformat": 4,
  "nbformat_minor": 0,
  "metadata": {
    "colab": {
      "name": "Trabajo2_colores.ipynb",
      "provenance": [],
      "authorship_tag": "ABX9TyNlr9NedJyweU55ECI2tlaj",
      "include_colab_link": true
    },
    "kernelspec": {
      "name": "python3",
      "display_name": "Python 3"
    },
    "language_info": {
      "name": "python"
    }
  },
  "cells": [
    {
      "cell_type": "markdown",
      "metadata": {
        "id": "view-in-github",
        "colab_type": "text"
      },
      "source": [
        "<a href=\"https://colab.research.google.com/github/aleja909/CD_202202_ALEJANDRA_GIRALDO/blob/main/Trabajo2_colores.ipynb\" target=\"_parent\"><img src=\"https://colab.research.google.com/assets/colab-badge.svg\" alt=\"Open In Colab\"/></a>"
      ]
    },
    {
      "cell_type": "code",
      "execution_count": null,
      "metadata": {
        "id": "wgDUr1dWloRP"
      },
      "outputs": [],
      "source": [
        "import colorsys"
      ]
    },
    {
      "cell_type": "code",
      "source": [
        "def generar_gama(ri, gi, bi, rf, gf,bf, cantidad):\n",
        "  hsvi=colorsys.rgb_to_hsv(ri/255,gi/255, bi/255)\n",
        "  hsvf=colorsys.rgb_to_hsv(rf/255,gf/255, bf/255)\n",
        "  pasoH =(hsvf[0]-hsvi[0])/(cantidad-1)\n",
        "  pasoS =(hsvf[1]-hsvi[1])/(cantidad-1)\n",
        "  pasoV=(hsvf[2]-hsvi[2])/(cantidad-1)\n",
        "  listaRGB=[]\n",
        "  listaRGB.append([ri/255,gi/255,bi/255])\n",
        "  for i in range(cantidad-1):\n",
        "    h=hsvi[0]+ pasoH*(i+1)\n",
        "    s=hsvi[1]+ pasoS*(i+1)\n",
        "    v=hsvi[2]+ pasoV*(i+1)\n",
        "    rgb=colorsys.hsv_to_rgb(h,s,v)\n",
        "    #listaRGB.append(round(rgb[0]*255,0), round(rgb[1]*255,0),round(rgb[2]*255,0))\n",
        "    listaRGB.append(rgb)\n",
        "  return listaRGB"
      ],
      "metadata": {
        "id": "xMGkkJULl23L"
      },
      "execution_count": null,
      "outputs": []
    },
    {
      "cell_type": "code",
      "source": [
        "gama=generar_gama(230,0,0,0,255,255,8)\n",
        "gama"
      ],
      "metadata": {
        "colab": {
          "base_uri": "https://localhost:8080/"
        },
        "id": "zQYrg-M9l98B",
        "outputId": "51981ad1-e9c4-4c81-8d59-550fe920ea3e"
      },
      "execution_count": null,
      "outputs": [
        {
          "output_type": "execute_result",
          "data": {
            "text/plain": [
              "[[0.9019607843137255, 0.0, 0.0],\n",
              " (0.9159663865546218, 0.3925570228091237, 0.0),\n",
              " (0.9299719887955182, 0.7971188475390156, 0.0),\n",
              " (0.6742697078831533, 0.9439775910364145, 0.0),\n",
              " (0.2737094837935175, 0.957983193277311, 0.0),\n",
              " (0.0, 0.9719887955182073, 0.13885554221688626),\n",
              " (0.0, 0.9859943977591037, 0.563425370148059),\n",
              " (0.0, 1.0, 1.0)]"
            ]
          },
          "metadata": {},
          "execution_count": 7
        }
      ]
    },
    {
      "cell_type": "code",
      "source": [
        "import matplotlib.pyplot as plt\n",
        "import matplotlib.patches as patches\n",
        "import matplotlib.colors as colors\n",
        "import math"
      ],
      "metadata": {
        "id": "eyzHr10nl7n6"
      },
      "execution_count": null,
      "outputs": []
    },
    {
      "cell_type": "code",
      "source": [
        "fig=plt.figure()\n",
        "ax=fig.add_subplot(111)\n",
        "\n",
        "count=len(gama)\n",
        "x=0\n",
        "y=0\n",
        "h=1/count\n",
        "for cl in gama:\n",
        "  pos=(x/count,y/count)\n",
        "  ax.add_patch(patches.Rectangle(pos,1,h,color=cl))\n",
        "  if y >= count-1:\n",
        "    x += 1\n",
        "    y = 0\n",
        "  else:\n",
        "    y+=1\n",
        "plt.show()"
      ],
      "metadata": {
        "colab": {
          "base_uri": "https://localhost:8080/",
          "height": 269
        },
        "id": "HuEQanRLhwIR",
        "outputId": "c967fa9b-944c-4744-e72d-eb16f5f34108"
      },
      "execution_count": null,
      "outputs": [
        {
          "output_type": "display_data",
          "data": {
            "text/plain": [
              "<Figure size 432x288 with 1 Axes>"
            ],
            "image/png": "[encoded data removed]"
          },
          "metadata": {
            "needs_background": "light"
          }
        }
      ]
    }
  ]
}